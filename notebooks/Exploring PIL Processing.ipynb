{
 "cells": [
  {
   "cell_type": "code",
   "execution_count": 1,
   "metadata": {},
   "outputs": [],
   "source": [
    "import base64\n",
    "from io import BytesIO\n",
    "import numpy as np\n",
    "from PIL import Image, ImageFilter"
   ]
  },
  {
   "cell_type": "code",
   "execution_count": 4,
   "metadata": {},
   "outputs": [
    {
     "name": "stdout",
     "output_type": "stream",
     "text": [
      "24883200\n",
      "0\n"
     ]
    }
   ],
   "source": [
    "im = Image.open('../images/IU2.jpg')\n",
    "arr = np.asarray(im)\n",
    "\n",
    "buff = BytesIO()\n",
    "im.save(buff, format='bmp')\n",
    "encoded = base64.b64encode(buff.getvalue()).decode(\"utf-8\")\n",
    "\n",
    "decoded = base64.b64decode(encoded)\n",
    "buffer = BytesIO(decoded)\n",
    "ret_im = Image.open(buffer)\n",
    "\n",
    "ret_arr = np.asarray(ret_im)\n",
    "\n",
    "print(np.count_nonzero(arr == ret_arr))\n",
    "print(np.count_nonzero(arr != ret_arr))"
   ]
  },
  {
   "cell_type": "code",
   "execution_count": 5,
   "metadata": {
    "scrolled": false
   },
   "outputs": [],
   "source": [
    "im_copy = im.copy()\n",
    "\n",
    "box = (1441, 1070, 2699, 1951)\n",
    "crop = im.crop(box)\n",
    "crop_mod = crop.filter(ImageFilter.FIND_EDGES)\n",
    "im_copy.paste(crop_mod, box)"
   ]
  },
  {
   "cell_type": "code",
   "execution_count": 6,
   "metadata": {},
   "outputs": [
    {
     "data": {
      "text/plain": [
       "(3840, 2160)"
      ]
     },
     "execution_count": 6,
     "metadata": {},
     "output_type": "execute_result"
    }
   ],
   "source": [
    "im.size"
   ]
  },
  {
   "cell_type": "markdown",
   "metadata": {},
   "source": [
    "## Calculating Filtering Operations Speed"
   ]
  },
  {
   "cell_type": "code",
   "execution_count": 6,
   "metadata": {},
   "outputs": [],
   "source": [
    "FILTERS_DICT = {\n",
    "    'blur': ImageFilter.BLUR,\n",
    "    'contour': ImageFilter.CONTOUR,\n",
    "    'detail': ImageFilter.DETAIL,\n",
    "    'edge_enhance': ImageFilter.EDGE_ENHANCE,\n",
    "    'edge_enhance_more': ImageFilter.EDGE_ENHANCE_MORE,\n",
    "    'emboss': ImageFilter.EMBOSS,\n",
    "    'find_edges': ImageFilter.FIND_EDGES,\n",
    "    'sharpen': ImageFilter.SHARPEN,\n",
    "    'smooth': ImageFilter.SMOOTH,\n",
    "    'smooth_more': ImageFilter.SMOOTH_MORE\n",
    "}\n",
    "\n",
    "filters = FILTERS_DICT.values()"
   ]
  },
  {
   "cell_type": "code",
   "execution_count": 9,
   "metadata": {},
   "outputs": [
    {
     "name": "stdout",
     "output_type": "stream",
     "text": [
      "<class 'PIL.ImageFilter.BLUR'>\n",
      "592 ms ± 3.61 ms per loop (mean ± std. dev. of 7 runs, 1 loop each)\n",
      "\n",
      "<class 'PIL.ImageFilter.CONTOUR'>\n",
      "338 ms ± 8.87 ms per loop (mean ± std. dev. of 7 runs, 1 loop each)\n",
      "\n",
      "<class 'PIL.ImageFilter.DETAIL'>\n",
      "254 ms ± 7.18 ms per loop (mean ± std. dev. of 7 runs, 1 loop each)\n",
      "\n",
      "<class 'PIL.ImageFilter.EDGE_ENHANCE'>\n",
      "266 ms ± 5.98 ms per loop (mean ± std. dev. of 7 runs, 1 loop each)\n",
      "\n",
      "<class 'PIL.ImageFilter.EDGE_ENHANCE_MORE'>\n",
      "282 ms ± 12.6 ms per loop (mean ± std. dev. of 7 runs, 1 loop each)\n",
      "\n",
      "<class 'PIL.ImageFilter.EMBOSS'>\n",
      "268 ms ± 13.5 ms per loop (mean ± std. dev. of 7 runs, 1 loop each)\n",
      "\n",
      "<class 'PIL.ImageFilter.FIND_EDGES'>\n",
      "347 ms ± 22.7 ms per loop (mean ± std. dev. of 7 runs, 1 loop each)\n",
      "\n",
      "<class 'PIL.ImageFilter.SHARPEN'>\n",
      "275 ms ± 18.6 ms per loop (mean ± std. dev. of 7 runs, 1 loop each)\n",
      "\n",
      "<class 'PIL.ImageFilter.SMOOTH'>\n",
      "258 ms ± 8.05 ms per loop (mean ± std. dev. of 7 runs, 1 loop each)\n",
      "\n",
      "<class 'PIL.ImageFilter.SMOOTH_MORE'>\n",
      "626 ms ± 43.9 ms per loop (mean ± std. dev. of 7 runs, 1 loop each)\n",
      "\n"
     ]
    }
   ],
   "source": [
    "im = Image.open(\"../images/cats.jpg\")\n",
    "\n",
    "for fil in filters:\n",
    "    print(fil)\n",
    "    %timeit im.filter(fil)\n",
    "    print()"
   ]
  },
  {
   "cell_type": "markdown",
   "metadata": {},
   "source": [
    "## Particle Counting with PIL"
   ]
  },
  {
   "cell_type": "code",
   "execution_count": null,
   "metadata": {},
   "outputs": [],
   "source": []
  }
 ],
 "metadata": {
  "kernelspec": {
   "display_name": "Python 3",
   "language": "python",
   "name": "python3"
  },
  "language_info": {
   "codemirror_mode": {
    "name": "ipython",
    "version": 3
   },
   "file_extension": ".py",
   "mimetype": "text/x-python",
   "name": "python",
   "nbconvert_exporter": "python",
   "pygments_lexer": "ipython3",
   "version": "3.6.3"
  }
 },
 "nbformat": 4,
 "nbformat_minor": 2
}
